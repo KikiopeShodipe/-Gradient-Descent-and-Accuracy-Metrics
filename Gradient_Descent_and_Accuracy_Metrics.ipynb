{
  "nbformat": 4,
  "nbformat_minor": 0,
  "metadata": {
    "colab": {
      "provenance": [],
      "authorship_tag": "ABX9TyMv4pk2v6AofBADoLODA+jP",
      "include_colab_link": true
    },
    "kernelspec": {
      "name": "python3",
      "display_name": "Python 3"
    },
    "language_info": {
      "name": "python"
    }
  },
  "cells": [
    {
      "cell_type": "markdown",
      "metadata": {
        "id": "view-in-github",
        "colab_type": "text"
      },
      "source": [
        "<a href=\"https://colab.research.google.com/github/KikiopeShodipe/-Gradient-Descent-and-Accuracy-Metrics/blob/main/Gradient_Descent_and_Accuracy_Metrics.ipynb\" target=\"_parent\"><img src=\"https://colab.research.google.com/assets/colab-badge.svg\" alt=\"Open In Colab\"/></a>"
      ]
    },
    {
      "cell_type": "code",
      "execution_count": null,
      "metadata": {
        "id": "K-8_3MzJmoLL"
      },
      "outputs": [],
      "source": [
        "from numpy import asarray,arange\n",
        "from numpy.random import rand\n",
        "from matplotlib import pyplot"
      ]
    },
    {
      "cell_type": "code",
      "source": [
        "#objective function-the function we want to minimize\n",
        "def objective(x):\n",
        "  return x**2.0"
      ],
      "metadata": {
        "id": "aachkzhespAt"
      },
      "execution_count": null,
      "outputs": []
    },
    {
      "cell_type": "code",
      "source": [
        "#derivative-tells us how steep the slope is\n",
        "def derivative(x):\n",
        "  return x*2.0"
      ],
      "metadata": {
        "id": "y9hJUQLKstJt"
      },
      "execution_count": null,
      "outputs": []
    },
    {
      "cell_type": "code",
      "source": [
        "#gradient descent function\n",
        "def gradient_descent(objective,derivative,bounds,n_tier,step_size):\n",
        "  solutions,scores=list(),list()\n",
        "  #starting point\n",
        "  solution=bounds[:,0]+rand(len(bounds))*(bounds[:,1]-bounds[:,0])\n",
        "  #run the gradient descent\n",
        "  for i in range(n_tier):\n",
        "    #calculate the slope\n",
        "    gradient=derivative(solution)\n",
        "    #take a step-move to the next point\n",
        "    solution=solution-step_size*gradient\n",
        "    #evaluate the starting point\n",
        "    solution_eval=objective(solution)\n",
        "    #evaluate the result\n",
        "    solutions.append(solution)\n",
        "    scores.append(solution_eval)\n",
        "    #report progress\n",
        "    print('>%d f(%s)=%.5f'%(i,solution,solution_eval))\n",
        "  return [solutions,scores]"
      ],
      "metadata": {
        "id": "-Fz8ukM_sxLM"
      },
      "execution_count": null,
      "outputs": []
    },
    {
      "cell_type": "code",
      "source": [
        "bounds = asarray([[-1.0, 3.0]])  # range of x\n",
        "n_tier = 100                     # number of iterations\n",
        "step_size = 0.1                  # how big each step is"
      ],
      "metadata": {
        "id": "j6szOridvG9l"
      },
      "execution_count": null,
      "outputs": []
    },
    {
      "cell_type": "code",
      "source": [
        "#run the algorithm\n",
        "solutions, scores = gradient_descent(objective, derivative, bounds, n_tier, step_size)"
      ],
      "metadata": {
        "colab": {
          "base_uri": "https://localhost:8080/"
        },
        "id": "r3rvoZZnvpPR",
        "outputId": "e026c9f3-36cb-4941-ceb8-38c64bae24d1"
      },
      "execution_count": null,
      "outputs": [
        {
          "output_type": "stream",
          "name": "stdout",
          "text": [
            ">0 f([-0.32734632])=0.10716\n",
            ">1 f([-0.26187706])=0.06858\n",
            ">2 f([-0.20950165])=0.04389\n",
            ">3 f([-0.16760132])=0.02809\n",
            ">4 f([-0.13408105])=0.01798\n",
            ">5 f([-0.10726484])=0.01151\n",
            ">6 f([-0.08581187])=0.00736\n",
            ">7 f([-0.0686495])=0.00471\n",
            ">8 f([-0.0549196])=0.00302\n",
            ">9 f([-0.04393568])=0.00193\n",
            ">10 f([-0.03514854])=0.00124\n",
            ">11 f([-0.02811883])=0.00079\n",
            ">12 f([-0.02249507])=0.00051\n",
            ">13 f([-0.01799605])=0.00032\n",
            ">14 f([-0.01439684])=0.00021\n",
            ">15 f([-0.01151747])=0.00013\n",
            ">16 f([-0.00921398])=0.00008\n",
            ">17 f([-0.00737118])=0.00005\n",
            ">18 f([-0.00589695])=0.00003\n",
            ">19 f([-0.00471756])=0.00002\n",
            ">20 f([-0.00377405])=0.00001\n",
            ">21 f([-0.00301924])=0.00001\n",
            ">22 f([-0.00241539])=0.00001\n",
            ">23 f([-0.00193231])=0.00000\n",
            ">24 f([-0.00154585])=0.00000\n",
            ">25 f([-0.00123668])=0.00000\n",
            ">26 f([-0.00098934])=0.00000\n",
            ">27 f([-0.00079147])=0.00000\n",
            ">28 f([-0.00063318])=0.00000\n",
            ">29 f([-0.00050654])=0.00000\n",
            ">30 f([-0.00040524])=0.00000\n",
            ">31 f([-0.00032419])=0.00000\n",
            ">32 f([-0.00025935])=0.00000\n",
            ">33 f([-0.00020748])=0.00000\n",
            ">34 f([-0.00016598])=0.00000\n",
            ">35 f([-0.00013279])=0.00000\n",
            ">36 f([-0.00010623])=0.00000\n",
            ">37 f([-8.49839639e-05])=0.00000\n",
            ">38 f([-6.79871711e-05])=0.00000\n",
            ">39 f([-5.43897369e-05])=0.00000\n",
            ">40 f([-4.35117895e-05])=0.00000\n",
            ">41 f([-3.48094316e-05])=0.00000\n",
            ">42 f([-2.78475453e-05])=0.00000\n",
            ">43 f([-2.22780362e-05])=0.00000\n",
            ">44 f([-1.7822429e-05])=0.00000\n",
            ">45 f([-1.42579432e-05])=0.00000\n",
            ">46 f([-1.14063545e-05])=0.00000\n",
            ">47 f([-9.12508364e-06])=0.00000\n",
            ">48 f([-7.30006691e-06])=0.00000\n",
            ">49 f([-5.84005353e-06])=0.00000\n",
            ">50 f([-4.67204282e-06])=0.00000\n",
            ">51 f([-3.73763426e-06])=0.00000\n",
            ">52 f([-2.99010741e-06])=0.00000\n",
            ">53 f([-2.39208593e-06])=0.00000\n",
            ">54 f([-1.91366874e-06])=0.00000\n",
            ">55 f([-1.53093499e-06])=0.00000\n",
            ">56 f([-1.22474799e-06])=0.00000\n",
            ">57 f([-9.79798395e-07])=0.00000\n",
            ">58 f([-7.83838716e-07])=0.00000\n",
            ">59 f([-6.27070973e-07])=0.00000\n",
            ">60 f([-5.01656778e-07])=0.00000\n",
            ">61 f([-4.01325423e-07])=0.00000\n",
            ">62 f([-3.21060338e-07])=0.00000\n",
            ">63 f([-2.5684827e-07])=0.00000\n",
            ">64 f([-2.05478616e-07])=0.00000\n",
            ">65 f([-1.64382893e-07])=0.00000\n",
            ">66 f([-1.31506314e-07])=0.00000\n",
            ">67 f([-1.05205052e-07])=0.00000\n",
            ">68 f([-8.41640413e-08])=0.00000\n",
            ">69 f([-6.7331233e-08])=0.00000\n",
            ">70 f([-5.38649864e-08])=0.00000\n",
            ">71 f([-4.30919891e-08])=0.00000\n",
            ">72 f([-3.44735913e-08])=0.00000\n",
            ">73 f([-2.7578873e-08])=0.00000\n",
            ">74 f([-2.20630984e-08])=0.00000\n",
            ">75 f([-1.76504787e-08])=0.00000\n",
            ">76 f([-1.4120383e-08])=0.00000\n",
            ">77 f([-1.12963064e-08])=0.00000\n",
            ">78 f([-9.03704512e-09])=0.00000\n",
            ">79 f([-7.2296361e-09])=0.00000\n",
            ">80 f([-5.78370888e-09])=0.00000\n",
            ">81 f([-4.6269671e-09])=0.00000\n",
            ">82 f([-3.70157368e-09])=0.00000\n",
            ">83 f([-2.96125894e-09])=0.00000\n",
            ">84 f([-2.36900716e-09])=0.00000\n",
            ">85 f([-1.89520572e-09])=0.00000\n",
            ">86 f([-1.51616458e-09])=0.00000\n",
            ">87 f([-1.21293166e-09])=0.00000\n",
            ">88 f([-9.70345331e-10])=0.00000\n",
            ">89 f([-7.76276265e-10])=0.00000\n",
            ">90 f([-6.21021012e-10])=0.00000\n",
            ">91 f([-4.96816809e-10])=0.00000\n",
            ">92 f([-3.97453448e-10])=0.00000\n",
            ">93 f([-3.17962758e-10])=0.00000\n",
            ">94 f([-2.54370206e-10])=0.00000\n",
            ">95 f([-2.03496165e-10])=0.00000\n",
            ">96 f([-1.62796932e-10])=0.00000\n",
            ">97 f([-1.30237546e-10])=0.00000\n",
            ">98 f([-1.04190037e-10])=0.00000\n",
            ">99 f([-8.33520293e-11])=0.00000\n"
          ]
        },
        {
          "output_type": "stream",
          "name": "stderr",
          "text": [
            "/tmp/ipython-input-1451115723.py:18: DeprecationWarning: Conversion of an array with ndim > 0 to a scalar is deprecated, and will error in future. Ensure you extract a single element from your array before performing this operation. (Deprecated NumPy 1.25.)\n",
            "  print('>%d f(%s)=%.5f'%(i,solution,solution_eval))\n"
          ]
        }
      ]
    }
  ]
}